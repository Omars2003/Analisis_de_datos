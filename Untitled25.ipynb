{
  "nbformat": 4,
  "nbformat_minor": 0,
  "metadata": {
    "colab": {
      "provenance": [],
      "authorship_tag": "ABX9TyN/VbTV+3ZpoIeEv9JPeHA+",
      "include_colab_link": true
    },
    "kernelspec": {
      "name": "python3",
      "display_name": "Python 3"
    },
    "language_info": {
      "name": "python"
    }
  },
  "cells": [
    {
      "cell_type": "markdown",
      "metadata": {
        "id": "view-in-github",
        "colab_type": "text"
      },
      "source": [
        "<a href=\"https://colab.research.google.com/github/Omars2003/Analisis_de_datos/blob/main/Untitled25.ipynb\" target=\"_parent\"><img src=\"https://colab.research.google.com/assets/colab-badge.svg\" alt=\"Open In Colab\"/></a>"
      ]
    },
    {
      "cell_type": "markdown",
      "source": [
        "PROGRAMA GAUSS SEIDEL\n",
        "\n",
        "OMAR MARTINEZ GARCIA\n",
        "\n",
        "ANALISIS NUMERICO 🔎"
      ],
      "metadata": {
        "id": "yuhJXe9gTb-D"
      }
    },
    {
      "cell_type": "code",
      "source": [
        "#  Gauss-Seidel\n",
        "#OMAR MARTINEZ GARCIA\n",
        "#ANALISIS NUMERICO\n",
        "\n",
        "def gauss_seidel(matrix, b, x0=None, tol=1e-12, max_iter=500):                   #SE DEFINEN tolerancia maximo de iteraciones,etc.\n",
        "    n = len(matrix)\n",
        "\n",
        "    if x0 is None:\n",
        "        x0 = [0.0] * n\n",
        "\n",
        "    for k in range(max_iter):\n",
        "        x = x0.copy()\n",
        "        for i in range(n):\n",
        "            sigma = sum(matrix[i][j] * x[j] for j in range(n) if j != i)\n",
        "            x[i] = (b[i] - sigma) / matrix[i][i]\n",
        "\n",
        "        if all(abs(x[i] - x0[i]) < tol for i in range(n)):\n",
        "            print(f\"Convergencia alcanzada en la iteración {k + 1}.\")\n",
        "            return x\n",
        "\n",
        "        x0 = x\n",
        "\n",
        "    print(\"El método de Gauss-Seidel no converge después de\", max_iter, \"iteraciones.\")\n",
        "    return x\n",
        "\n",
        "\n",
        "n = int(input(\"Ingrese el tamaño de la matriz cuadrada: \"))\n",
        "\n",
        "                                                                                                             # Entrada de usuario para la matriz de coeficientes\n",
        "matrix = []\n",
        "print(\"Ingrese la matriz de coeficientes por filas:\")\n",
        "for i in range(n):\n",
        "    row = [float(input(f\"    Elemento {j+1}: \")) for j in range(n)]\n",
        "    matrix.append(row)\n",
        "\n",
        "\n",
        "b = [float(input(f\"Ingrese el término independiente {i+1}: \")) for i in range(n)]                          # Entrada de usuario para el vector de términos independientes(EL VAlor despues de =)\n",
        "\n",
        "                                                                                                           # el vector inicial (opcional)\n",
        "x0 = [float(input(f\"Ingrese el vector inicial para x{i+1}: \")) for i in range(n)]\n",
        "\n",
        "#\n",
        "result = gauss_seidel(matrix, b, x0)                                                                        #LLAMAMOS AL METODO\n",
        "\n",
        "# Mostrar el resultado\n",
        "print(\"\\nLa solución es:\")\n",
        "for i in range(n):\n",
        "    print(f\"x{i+1} = {result[i]}\")\n",
        "\n"
      ],
      "metadata": {
        "colab": {
          "base_uri": "https://localhost:8080/"
        },
        "id": "hFr-xrIcVIYU",
        "outputId": "7ae96a27-9aba-481b-e1ca-d7ed80f27073"
      },
      "execution_count": 7,
      "outputs": [
        {
          "output_type": "stream",
          "name": "stdout",
          "text": [
            "Ingrese el tamaño de la matriz cuadrada: 3\n",
            "Ingrese la matriz de coeficientes por filas:\n",
            "    Elemento 1: 2\n",
            "    Elemento 2: -1\n",
            "    Elemento 3: 1\n",
            "    Elemento 1: -1\n",
            "    Elemento 2: 3\n",
            "    Elemento 3: -2\n",
            "    Elemento 1: 1\n",
            "    Elemento 2: -2\n",
            "    Elemento 3: 4\n",
            "Ingrese el término independiente 1: 1\n",
            "Ingrese el término independiente 2: 2\n",
            "Ingrese el término independiente 3: 0\n",
            "Ingrese el vector inicial para x1: 0\n",
            "Ingrese el vector inicial para x2: 0\n",
            "Ingrese el vector inicial para x3: 0\n",
            "Convergencia alcanzada en la iteración 24.\n",
            "\n",
            "La solución es:\n",
            "x1 = 0.9230769230768268\n",
            "x2 = 1.2307692307692537\n",
            "x3 = 0.38461538461542016\n"
          ]
        }
      ]
    },
    {
      "cell_type": "code",
      "source": [
        "\n"
      ],
      "metadata": {
        "id": "JrFglYhEWRRs"
      },
      "execution_count": null,
      "outputs": []
    }
  ]
}